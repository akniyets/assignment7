{
 "cells": [
  {
   "cell_type": "code",
   "execution_count": 1,
   "metadata": {},
   "outputs": [
    {
     "data": {
      "text/plain": [
       "'1010011010010100101110010111110101010101010101010'"
      ]
     },
     "execution_count": 1,
     "metadata": {},
     "output_type": "execute_result"
    }
   ],
   "source": [
    "f = open(\"code.txt\", \"r\")\n",
    "bitString = f.read()\n",
    "bitString"
   ]
  },
  {
   "cell_type": "code",
   "execution_count": 2,
   "metadata": {},
   "outputs": [],
   "source": [
    "def formatHammingCode1(bitString):\n",
    "    temp = \"\"\n",
    "    temp += \"___\"\n",
    "    temp += bitString[0]\n",
    "    temp += \"_\"\n",
    "    for x in range(3):\n",
    "        temp += bitString[1 + x]\n",
    "    temp += \"_\"\n",
    "    for x in range(7):\n",
    "        temp += bitString[4 + x]\n",
    "    return temp"
   ]
  },
  {
   "cell_type": "code",
   "execution_count": 3,
   "metadata": {},
   "outputs": [],
   "source": [
    "def hammingCode1(bitString):\n",
    "    a = [bitString[i:i+11] for i in range(0, len(bitString), 11)]\n",
    "    if len(a[len(a) - 1]) != 11:\n",
    "        for x in range(len(a[len(a) - 1]), 11):\n",
    "            a[len(a) - 1] += '0'\n",
    "    print(\"Data blocks: \")\n",
    "    for x in range(len(a)):\n",
    "        print(\"b\" + str(x + 1) + \": \" + a[x])\n",
    "        a[x] = formatHammingCode1(a[x])\n",
    "    result = \"\"\n",
    "    for x in a:\n",
    "        print(\"Expand the block to 16 bits: \" + x)\n",
    "        z = \"\"\n",
    "        for y in range(len(x)):\n",
    "            if x[y] == \"_\":\n",
    "                z += '2'\n",
    "            else:\n",
    "                z += x[y]\n",
    "        x = list(map(int, z))\n",
    "        x[1] = (x[5] + x[9] + x[13] + x[3] + x[7] + x[11] + x[15]) % 2\n",
    "        print(\"b1: \" + str(x[1]))\n",
    "        x[2] = (x[6] + x[10] + x[14] + x[3] + x[7] + x[11] + x[15]) % 2\n",
    "        print(\"b2: \" + str(x[2]))\n",
    "        x[4] = (x[5] + x[6] + x[7] + x[12] + x[13] + x[14] + x[15]) % 2\n",
    "        print(\"b4: \" + str(x[4]))\n",
    "        x[8] = (x[9] + x[10] + x[11] + x[12] + x[13] + x[14] + x[15]) % 2\n",
    "        print(\"b8: \" + str(x[8]))\n",
    "        for y in x:\n",
    "            x[0] += y\n",
    "        x[0] %= 2\n",
    "        print(\"b0: \" + str(x[0]))\n",
    "        x = ''.join(map(str,x))\n",
    "        print(\"Encoded bitstring: \" + x)\n",
    "        result += x\n",
    "    return result"
   ]
  },
  {
   "cell_type": "code",
   "execution_count": 13,
   "metadata": {},
   "outputs": [
    {
     "name": "stdout",
     "output_type": "stream",
     "text": [
      "Data blocks: \n",
      "b1: 10100110100\n",
      "b2: 10100101110\n",
      "b3: 01011111010\n",
      "b4: 10101010101\n",
      "b5: 01010000000\n",
      "Expand the block to 8 bits: ___1_010_0110100\n",
      "b1: 1\n",
      "b2: 0\n",
      "b4: 0\n",
      "b8: 1\n",
      "b0: 1\n",
      "Encoded bitstring: 1101001010110100\n",
      "Expand the block to 8 bits: ___1_010_0101110\n",
      "b1: 0\n",
      "b2: 0\n",
      "b4: 0\n",
      "b8: 0\n",
      "b0: 0\n",
      "Encoded bitstring: 0001001000101110\n",
      "Expand the block to 8 bits: ___0_101_1111010\n",
      "b1: 0\n",
      "b2: 0\n",
      "b4: 0\n",
      "b8: 1\n",
      "b0: 0\n",
      "Encoded bitstring: 0000010111111010\n",
      "Expand the block to 8 bits: ___1_010_1010101\n",
      "b1: 1\n",
      "b2: 0\n",
      "b4: 1\n",
      "b8: 0\n",
      "b0: 0\n",
      "Encoded bitstring: 0101101001010101\n",
      "Expand the block to 8 bits: ___0_101_0000000\n",
      "b1: 0\n",
      "b2: 1\n",
      "b4: 0\n",
      "b8: 0\n",
      "b0: 1\n",
      "Encoded bitstring: 1010010100000000\n"
     ]
    },
    {
     "data": {
      "text/plain": [
       "'11010010101101000001001000101110000001011111101001011010010101011010010100000000'"
      ]
     },
     "execution_count": 13,
     "metadata": {},
     "output_type": "execute_result"
    }
   ],
   "source": [
    "text1 = hammingCode1(bitString)\n",
    "text1"
   ]
  },
  {
   "cell_type": "code",
   "execution_count": 5,
   "metadata": {},
   "outputs": [],
   "source": [
    "def formatHammingCode2(bitString):\n",
    "    temp = \"\"\n",
    "    temp += \"___\"\n",
    "    temp += bitString[0]\n",
    "    temp += \"_\"\n",
    "    for x in range(3):\n",
    "        temp += bitString[1 + x]\n",
    "    return temp"
   ]
  },
  {
   "cell_type": "code",
   "execution_count": 11,
   "metadata": {},
   "outputs": [],
   "source": [
    "def hammingCode2(bitString):\n",
    "    a = [bitString[i:i+4] for i in range(0, len(bitString), 4)]\n",
    "    if len(a[len(a) - 1]) != 4:\n",
    "        for x in range(len(a[len(a) - 1]), 4):\n",
    "            a[len(a) - 1] += '0'\n",
    "    print(\"Data blocks: \")\n",
    "    for x in range(len(a)):\n",
    "        print(\"b\" + str(x + 1) + \": \" + a[x])\n",
    "        a[x] = formatHammingCode2(a[x])\n",
    "    result = \"\"\n",
    "    for x in a:\n",
    "        print(\"Expand the block to 8 bits: \" + x)\n",
    "        z = \"\"\n",
    "        for y in range(len(x)):\n",
    "            if x[y] == \"_\":\n",
    "                z += '2'\n",
    "            else:\n",
    "                z += x[y]\n",
    "        x = list(map(int, z))\n",
    "        x[1] = (x[3] + x[5] + x[7]) % 2\n",
    "        print(\"p1: \" + str(x[1]))\n",
    "        x[2] = (x[3] + x[6] + x[7]) % 2\n",
    "        print(\"p2: \" + str(x[2]))\n",
    "        x[4] = (x[5] + x[6] + x[7]) % 2\n",
    "        print(\"p4: \" + str(x[4]))\n",
    "        for y in x:\n",
    "            x[0] += y\n",
    "        x[0] %= 2\n",
    "        print(\"b0: \" + str(x[0]))\n",
    "        x = ''.join(map(str,x))\n",
    "        print(\"Encoded bitstring: \" + x)\n",
    "        result += x\n",
    "    return result\n",
    "        "
   ]
  },
  {
   "cell_type": "code",
   "execution_count": 14,
   "metadata": {},
   "outputs": [
    {
     "name": "stdout",
     "output_type": "stream",
     "text": [
      "Data blocks: \n",
      "b1: 1010\n",
      "b2: 0110\n",
      "b3: 1001\n",
      "b4: 0100\n",
      "b5: 1011\n",
      "b6: 1001\n",
      "b7: 0111\n",
      "b8: 1101\n",
      "b9: 0101\n",
      "b10: 0101\n",
      "b11: 0101\n",
      "b12: 0101\n",
      "b13: 0000\n",
      "Expand the block to 8 bits: ___1_010\n",
      "p1: 1\n",
      "p2: 0\n",
      "p4: 1\n",
      "b0: 0\n",
      "Encoded bitstring: 01011010\n",
      "Expand the block to 8 bits: ___0_110\n",
      "p1: 1\n",
      "p2: 1\n",
      "p4: 0\n",
      "b0: 0\n",
      "Encoded bitstring: 01100110\n",
      "Expand the block to 8 bits: ___1_001\n",
      "p1: 0\n",
      "p2: 0\n",
      "p4: 1\n",
      "b0: 1\n",
      "Encoded bitstring: 10011001\n",
      "Expand the block to 8 bits: ___0_100\n",
      "p1: 1\n",
      "p2: 0\n",
      "p4: 1\n",
      "b0: 1\n",
      "Encoded bitstring: 11001100\n",
      "Expand the block to 8 bits: ___1_011\n",
      "p1: 0\n",
      "p2: 1\n",
      "p4: 0\n",
      "b0: 0\n",
      "Encoded bitstring: 00110011\n",
      "Expand the block to 8 bits: ___1_001\n",
      "p1: 0\n",
      "p2: 0\n",
      "p4: 1\n",
      "b0: 1\n",
      "Encoded bitstring: 10011001\n",
      "Expand the block to 8 bits: ___0_111\n",
      "p1: 0\n",
      "p2: 0\n",
      "p4: 1\n",
      "b0: 0\n",
      "Encoded bitstring: 00001111\n",
      "Expand the block to 8 bits: ___1_101\n",
      "p1: 1\n",
      "p2: 0\n",
      "p4: 0\n",
      "b0: 0\n",
      "Encoded bitstring: 01010101\n",
      "Expand the block to 8 bits: ___0_101\n",
      "p1: 0\n",
      "p2: 1\n",
      "p4: 0\n",
      "b0: 1\n",
      "Encoded bitstring: 10100101\n",
      "Expand the block to 8 bits: ___0_101\n",
      "p1: 0\n",
      "p2: 1\n",
      "p4: 0\n",
      "b0: 1\n",
      "Encoded bitstring: 10100101\n",
      "Expand the block to 8 bits: ___0_101\n",
      "p1: 0\n",
      "p2: 1\n",
      "p4: 0\n",
      "b0: 1\n",
      "Encoded bitstring: 10100101\n",
      "Expand the block to 8 bits: ___0_101\n",
      "p1: 0\n",
      "p2: 1\n",
      "p4: 0\n",
      "b0: 1\n",
      "Encoded bitstring: 10100101\n",
      "Expand the block to 8 bits: ___0_000\n",
      "p1: 0\n",
      "p2: 0\n",
      "p4: 0\n",
      "b0: 0\n",
      "Encoded bitstring: 00000000\n"
     ]
    },
    {
     "data": {
      "text/plain": [
       "'01011010011001101001100111001100001100111001100100001111010101011010010110100101101001011010010100000000'"
      ]
     },
     "execution_count": 14,
     "metadata": {},
     "output_type": "execute_result"
    }
   ],
   "source": [
    "text2 = hammingCode2(bitString)\n",
    "text2"
   ]
  },
  {
   "cell_type": "code",
   "execution_count": 15,
   "metadata": {},
   "outputs": [],
   "source": [
    "f = open(\"result.txt\", \"w\")\n",
    "f.write(text1 + \"\\n\" + text2)\n",
    "f.close()"
   ]
  }
 ],
 "metadata": {
  "kernelspec": {
   "display_name": "Python 3",
   "language": "python",
   "name": "python3"
  },
  "language_info": {
   "codemirror_mode": {
    "name": "ipython",
    "version": 3
   },
   "file_extension": ".py",
   "mimetype": "text/x-python",
   "name": "python",
   "nbconvert_exporter": "python",
   "pygments_lexer": "ipython3",
   "version": "3.8.5"
  }
 },
 "nbformat": 4,
 "nbformat_minor": 4
}
