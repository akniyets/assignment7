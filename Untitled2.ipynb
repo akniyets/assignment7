{
 "cells": [
  {
   "cell_type": "markdown",
   "metadata": {},
   "source": [
    "# Decoding (7,4)"
   ]
  },
  {
   "cell_type": "code",
   "execution_count": 3,
   "metadata": {},
   "outputs": [
    {
     "data": {
      "text/plain": [
       "'01011010011001101001100111001100001100111001100100001111010101011010010110100101101001011010010100000000'"
      ]
     },
     "execution_count": 3,
     "metadata": {},
     "output_type": "execute_result"
    }
   ],
   "source": [
    "f = open(\"result2.txt\", \"r\")\n",
    "bitString = f.read()\n",
    "bitString"
   ]
  },
  {
   "cell_type": "code",
   "execution_count": 4,
   "metadata": {},
   "outputs": [
    {
     "data": {
      "text/plain": [
       "['01011010',\n",
       " '01100110',\n",
       " '10011001',\n",
       " '11001100',\n",
       " '00110011',\n",
       " '10011001',\n",
       " '00001111',\n",
       " '01010101',\n",
       " '10100101',\n",
       " '10100101',\n",
       " '10100101',\n",
       " '10100101',\n",
       " '00000000']"
      ]
     },
     "execution_count": 4,
     "metadata": {},
     "output_type": "execute_result"
    }
   ],
   "source": [
    "splitted = [bitString[i:i+8] for i in range(0, len(bitString), 8)]\n",
    "splitted"
   ]
  },
  {
   "cell_type": "code",
   "execution_count": 5,
   "metadata": {},
   "outputs": [
    {
     "name": "stdout",
     "output_type": "stream",
     "text": [
      "Original file: 01011010011001101001100111001100001100111001100100001111010101011010010110100101101001011010010100000000\n",
      "Initial blocks: \n",
      "b1: 01011010\n",
      "b2: 01100110\n",
      "b3: 10011001\n",
      "b4: 11001100\n",
      "b5: 00110011\n",
      "b6: 10011001\n",
      "b7: 00001111\n",
      "b8: 01010101\n",
      "b9: 10100101\n",
      "b10: 10100101\n",
      "b11: 10100101\n",
      "b12: 10100101\n",
      "b13: 00000000\n"
     ]
    }
   ],
   "source": [
    "print(\"Original file: \" + bitString)\n",
    "print(\"Initial blocks: \")\n",
    "for x in range(len(splitted)):\n",
    "    print(\"b\" + str(x + 1) + \": \" + splitted[x])"
   ]
  },
  {
   "cell_type": "code",
   "execution_count": 7,
   "metadata": {},
   "outputs": [],
   "source": [
    "import random\n",
    "def flipBit(bitstring):\n",
    "    change = random.randint(0,7)\n",
    "    toReturn = \"\"\n",
    "    for x in range(len(bitstring)):\n",
    "        if x == change:\n",
    "            if bitstring[x] == '0':\n",
    "                toReturn += '1'\n",
    "            else:\n",
    "                toReturn += '0'\n",
    "        else:\n",
    "            toReturn += bitstring[x]\n",
    "    return toReturn\n",
    "def errorGen(splitted):\n",
    "    mini = int(len(splitted) * 3 / 10)\n",
    "    maxi = int(len(splitted) * 5 / 10)\n",
    "    counter = 0\n",
    "    toReturn = []\n",
    "    g = 1\n",
    "    changed = [0 for x in splitted]\n",
    "    while counter < mini:\n",
    "        for x in range(len(splitted)):\n",
    "            if changed[x] == 1:\n",
    "                continue\n",
    "            change = random.randint(0,g)\n",
    "            if change == 0:\n",
    "                toReturn.append(splitted[x])\n",
    "            else:\n",
    "                counter += 1\n",
    "                toReturn.append(flipBit(splitted[x]))\n",
    "                changed[x] = 1\n",
    "                if counter == maxi:\n",
    "                    g = 0\n",
    "    return toReturn"
   ]
  },
  {
   "cell_type": "code",
   "execution_count": 8,
   "metadata": {},
   "outputs": [
    {
     "data": {
      "text/plain": [
       "['01011010',\n",
       " '01100111',\n",
       " '11011001',\n",
       " '11001100',\n",
       " '01110011',\n",
       " '10011001',\n",
       " '00001111',\n",
       " '01010001',\n",
       " '10110101',\n",
       " '10000101',\n",
       " '10100101',\n",
       " '10100101',\n",
       " '00000000']"
      ]
     },
     "execution_count": 8,
     "metadata": {},
     "output_type": "execute_result"
    }
   ],
   "source": [
    "newSplitted = errorGen(splitted)\n",
    "newSplitted"
   ]
  },
  {
   "cell_type": "code",
   "execution_count": 9,
   "metadata": {},
   "outputs": [
    {
     "name": "stdout",
     "output_type": "stream",
     "text": [
      "Blocks with errors: \n",
      "b1: 01011010\n",
      "b2: 01100111\n",
      "b3: 11011001\n",
      "b4: 11001100\n",
      "b5: 01110011\n",
      "b6: 10011001\n",
      "b7: 00001111\n",
      "b8: 01010001\n",
      "b9: 10110101\n",
      "b10: 10000101\n",
      "b11: 10100101\n",
      "b12: 10100101\n",
      "b13: 00000000\n"
     ]
    }
   ],
   "source": [
    "print(\"Blocks with errors: \")\n",
    "for x in range(len(newSplitted)):\n",
    "    print(\"b\" + str(x + 1) + \": \" + newSplitted[x])"
   ]
  },
  {
   "cell_type": "code",
   "execution_count": 27,
   "metadata": {},
   "outputs": [],
   "source": [
    "def hamming(bitString):\n",
    "    print(bitString)\n",
    "    x = []\n",
    "    for a in bitString:\n",
    "        x.append(int(a))\n",
    "    error = 0\n",
    "    x1 = (x[3] + x[5] + x[7]) % 2\n",
    "    print(\"p1: \" + str(x1))\n",
    "    if x1 != x[1]:\n",
    "        error = 1\n",
    "        print(\"Incorrect\")\n",
    "    else:\n",
    "        print(\"Correct\")\n",
    "    x2 = (x[3] + x[6] + x[7]) % 2\n",
    "    print(\"p2: \" + str(x2))\n",
    "    if x2 != x[2]:\n",
    "        error = 1\n",
    "        print(\"Incorrect\")\n",
    "    else:\n",
    "        print(\"Correct\")\n",
    "    x4 = (x[5] + x[6] + x[7]) % 2\n",
    "    print(\"p4: \" + str(x4))\n",
    "    if x4 != x[4]:\n",
    "        error = 1\n",
    "        print(\"Incorrect\")\n",
    "    else:\n",
    "        print(\"Correct\")\n",
    "    x0 = 0\n",
    "    for y in range(len(x)):\n",
    "        if y == 0:\n",
    "            continue\n",
    "        x0 += y\n",
    "    x0 %= 2\n",
    "    print(\"b0: \" + str(x0))\n",
    "    if x0 != x[0]:\n",
    "        error = 1\n",
    "        print(\"Incorrect\")\n",
    "    else:\n",
    "        print(\"Correct\")\n",
    "    if error == 1:\n",
    "        row = 0\n",
    "        column = 0\n",
    "        if x1 == x[1] and x2 == x[2]:\n",
    "            column = 0\n",
    "        if x1 != x[1] and x2 == x[2]:\n",
    "            column = 1\n",
    "        if x1 == x[1] and x2 != x[2]:\n",
    "            column = 2\n",
    "        if x1 != x[1] and x2 != x[2]:\n",
    "            column = 3\n",
    "        if x4 != x[4]:\n",
    "            row = 1\n",
    "        print(\"Error at position: \" + str(row * 4 + column))\n",
    "        if x[row * 4 + column] == 0:\n",
    "            x[row * 4 + column] = 1\n",
    "        else:\n",
    "            x[row * 4 + column] = 0\n",
    "        print(\"Corrected bitstring: \" + \"\".join(str(y) for y in x))\n",
    "    rstring = \"\"\n",
    "    rstring += str(x[3])\n",
    "    rstring += str(x[5])\n",
    "    rstring += str(x[6])\n",
    "    rstring += str(x[7])\n",
    "    return rstring"
   ]
  },
  {
   "cell_type": "code",
   "execution_count": 28,
   "metadata": {},
   "outputs": [
    {
     "name": "stdout",
     "output_type": "stream",
     "text": [
      "01011010\n",
      "p1: 1\n",
      "Correct\n",
      "p2: 0\n",
      "Correct\n",
      "p4: 1\n",
      "Correct\n",
      "b0: 0\n",
      "Correct\n",
      "01100111\n",
      "p1: 0\n",
      "Incorrect\n",
      "p2: 0\n",
      "Incorrect\n",
      "p4: 1\n",
      "Incorrect\n",
      "b0: 0\n",
      "Correct\n",
      "Error at position: 7\n",
      "Corrected bitstring: 01100110\n",
      "11011001\n",
      "p1: 0\n",
      "Incorrect\n",
      "p2: 0\n",
      "Correct\n",
      "p4: 1\n",
      "Correct\n",
      "b0: 0\n",
      "Incorrect\n",
      "Error at position: 1\n",
      "Corrected bitstring: 10011001\n",
      "11001100\n",
      "p1: 1\n",
      "Correct\n",
      "p2: 0\n",
      "Correct\n",
      "p4: 1\n",
      "Correct\n",
      "b0: 0\n",
      "Incorrect\n",
      "Error at position: 0\n",
      "Corrected bitstring: 01001100\n",
      "01110011\n",
      "p1: 0\n",
      "Incorrect\n",
      "p2: 1\n",
      "Correct\n",
      "p4: 0\n",
      "Correct\n",
      "b0: 0\n",
      "Correct\n",
      "Error at position: 1\n",
      "Corrected bitstring: 00110011\n",
      "10011001\n",
      "p1: 0\n",
      "Correct\n",
      "p2: 0\n",
      "Correct\n",
      "p4: 1\n",
      "Correct\n",
      "b0: 0\n",
      "Incorrect\n",
      "Error at position: 0\n",
      "Corrected bitstring: 00011001\n",
      "00001111\n",
      "p1: 0\n",
      "Correct\n",
      "p2: 0\n",
      "Correct\n",
      "p4: 1\n",
      "Correct\n",
      "b0: 0\n",
      "Correct\n",
      "01010001\n",
      "p1: 0\n",
      "Incorrect\n",
      "p2: 0\n",
      "Correct\n",
      "p4: 1\n",
      "Incorrect\n",
      "b0: 0\n",
      "Correct\n",
      "Error at position: 5\n",
      "Corrected bitstring: 01010101\n",
      "10110101\n",
      "p1: 1\n",
      "Incorrect\n",
      "p2: 0\n",
      "Incorrect\n",
      "p4: 0\n",
      "Correct\n",
      "b0: 0\n",
      "Incorrect\n",
      "Error at position: 3\n",
      "Corrected bitstring: 10100101\n",
      "10000101\n",
      "p1: 0\n",
      "Correct\n",
      "p2: 1\n",
      "Incorrect\n",
      "p4: 0\n",
      "Correct\n",
      "b0: 0\n",
      "Incorrect\n",
      "Error at position: 2\n",
      "Corrected bitstring: 10100101\n",
      "10100101\n",
      "p1: 0\n",
      "Correct\n",
      "p2: 1\n",
      "Correct\n",
      "p4: 0\n",
      "Correct\n",
      "b0: 0\n",
      "Incorrect\n",
      "Error at position: 0\n",
      "Corrected bitstring: 00100101\n",
      "10100101\n",
      "p1: 0\n",
      "Correct\n",
      "p2: 1\n",
      "Correct\n",
      "p4: 0\n",
      "Correct\n",
      "b0: 0\n",
      "Incorrect\n",
      "Error at position: 0\n",
      "Corrected bitstring: 00100101\n",
      "00000000\n",
      "p1: 0\n",
      "Correct\n",
      "p2: 0\n",
      "Correct\n",
      "p4: 0\n",
      "Correct\n",
      "b0: 0\n",
      "Correct\n",
      "1010011010010100101110010111110101010101010101010000\n"
     ]
    }
   ],
   "source": [
    "final = \"\"\n",
    "for x in newSplitted:\n",
    "    final += hamming(x)\n",
    "print(final)"
   ]
  },
  {
   "cell_type": "code",
   "execution_count": 29,
   "metadata": {},
   "outputs": [
    {
     "name": "stdout",
     "output_type": "stream",
     "text": [
      "Decoded sequence: \n",
      "1010011010010100101110010111110101010101010101010000\n",
      "Sequence from assignment 3:\n",
      "1010011010010100101110010111110101010101010101010\n",
      "They match.\n"
     ]
    }
   ],
   "source": [
    "print(\"Decoded sequence: \")\n",
    "print(final)\n",
    "print(\"Sequence from assignment 3:\")\n",
    "f = open(\"code.txt\", \"r\")\n",
    "bitString = f.read()\n",
    "bitString\n",
    "print(bitString)\n",
    "match = 1\n",
    "for x in range(len(final)):\n",
    "    if len(bitString) == x:\n",
    "        break\n",
    "    if final[x] != bitString[x]:\n",
    "        match = 0\n",
    "        break\n",
    "if match == 0:\n",
    "    print(\"They dont match.\")\n",
    "else:\n",
    "    print(\"They match.\")"
   ]
  }
 ],
 "metadata": {
  "kernelspec": {
   "display_name": "Python 3",
   "language": "python",
   "name": "python3"
  },
  "language_info": {
   "codemirror_mode": {
    "name": "ipython",
    "version": 3
   },
   "file_extension": ".py",
   "mimetype": "text/x-python",
   "name": "python",
   "nbconvert_exporter": "python",
   "pygments_lexer": "ipython3",
   "version": "3.8.5"
  }
 },
 "nbformat": 4,
 "nbformat_minor": 4
}
