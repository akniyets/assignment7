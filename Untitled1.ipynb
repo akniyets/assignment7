{
 "cells": [
  {
   "cell_type": "markdown",
   "metadata": {},
   "source": [
    "# Decoding (15,11)"
   ]
  },
  {
   "cell_type": "code",
   "execution_count": 8,
   "metadata": {},
   "outputs": [
    {
     "data": {
      "text/plain": [
       "'11010010101101000001001000101110000001011111101001011010010101011010010100000000'"
      ]
     },
     "execution_count": 8,
     "metadata": {},
     "output_type": "execute_result"
    }
   ],
   "source": [
    "f = open(\"result.txt\", \"r\")\n",
    "bitString = f.read()\n",
    "bitString"
   ]
  },
  {
   "cell_type": "code",
   "execution_count": 2,
   "metadata": {},
   "outputs": [
    {
     "data": {
      "text/plain": [
       "['1101001010110100',\n",
       " '0001001000101110',\n",
       " '0000010111111010',\n",
       " '0101101001010101',\n",
       " '1010010100000000']"
      ]
     },
     "execution_count": 2,
     "metadata": {},
     "output_type": "execute_result"
    }
   ],
   "source": [
    "splitted = [bitString[i:i+16] for i in range(0, len(bitString), 16)]\n",
    "splitted"
   ]
  },
  {
   "cell_type": "code",
   "execution_count": 3,
   "metadata": {},
   "outputs": [
    {
     "name": "stdout",
     "output_type": "stream",
     "text": [
      "Original file: 11010010101101000001001000101110000001011111101001011010010101011010010100000000\n",
      "Initial blocks: \n",
      "b1: 1101001010110100\n",
      "b2: 0001001000101110\n",
      "b3: 0000010111111010\n",
      "b4: 0101101001010101\n",
      "b5: 1010010100000000\n"
     ]
    }
   ],
   "source": [
    "print(\"Original file: \" + bitString)\n",
    "print(\"Initial blocks: \")\n",
    "for x in range(len(splitted)):\n",
    "    print(\"b\" + str(x + 1) + \": \" + splitted[x])"
   ]
  },
  {
   "cell_type": "code",
   "execution_count": 4,
   "metadata": {},
   "outputs": [],
   "source": [
    "import random\n",
    "def flipBit(bitstring):\n",
    "    change = random.randint(0,15)\n",
    "    toReturn = \"\"\n",
    "    for x in range(len(bitstring)):\n",
    "        if x == change:\n",
    "            if bitstring[x] == '0':\n",
    "                toReturn += '1'\n",
    "            else:\n",
    "                toReturn += '0'\n",
    "        else:\n",
    "            toReturn += bitstring[x]\n",
    "    return toReturn\n",
    "def errorGen(splitted):\n",
    "    mini = int(len(splitted) * 3 / 10)\n",
    "    maxi = int(len(splitted) * 5 / 10)\n",
    "    counter = 0\n",
    "    toReturn = []\n",
    "    g = 1\n",
    "    changed = [0 for x in splitted]\n",
    "    while counter < mini:\n",
    "        for x in range(len(splitted)):\n",
    "            if changed[x] == 1:\n",
    "                continue\n",
    "            change = random.randint(0,g)\n",
    "            if change == 0:\n",
    "                toReturn.append(splitted[x])\n",
    "            else:\n",
    "                counter += 1\n",
    "                toReturn.append(flipBit(splitted[x]))\n",
    "                changed[x] = 1\n",
    "                if counter == maxi:\n",
    "                    g = 0\n",
    "    return toReturn"
   ]
  },
  {
   "cell_type": "code",
   "execution_count": 5,
   "metadata": {},
   "outputs": [
    {
     "data": {
      "text/plain": [
       "['1101011010110100',\n",
       " '0001001000101110',\n",
       " '0000010111111010',\n",
       " '0101101001010101',\n",
       " '1110010100000000']"
      ]
     },
     "execution_count": 5,
     "metadata": {},
     "output_type": "execute_result"
    }
   ],
   "source": [
    "newSplitted = errorGen(splitted)\n",
    "newSplitted"
   ]
  },
  {
   "cell_type": "code",
   "execution_count": 10,
   "metadata": {},
   "outputs": [
    {
     "name": "stdout",
     "output_type": "stream",
     "text": [
      "Blocks with errors: \n",
      "b1: 1101011010110100\n",
      "b2: 0001001000101110\n",
      "b3: 0000010111111010\n",
      "b4: 0101101001010101\n",
      "b5: 1110010100000000\n"
     ]
    }
   ],
   "source": [
    "print(\"Blocks with errors: \")\n",
    "for x in range(len(newSplitted)):\n",
    "    print(\"b\" + str(x + 1) + \": \" + newSplitted[x])"
   ]
  },
  {
   "cell_type": "code",
   "execution_count": 12,
   "metadata": {},
   "outputs": [],
   "source": [
    "def hamming(bitString):\n",
    "    print(bitString)\n",
    "    x = []\n",
    "    for a in bitString:\n",
    "        x.append(int(a))\n",
    "    error = 0\n",
    "    x1 = (x[5] + x[9] + x[13] + x[3] + x[7] + x[11] + x[15]) % 2\n",
    "    print(\"b1: \" + str(x1))\n",
    "    if x1 != x[1]:\n",
    "        error = 1\n",
    "        print(\"Incorrect\")\n",
    "    else:\n",
    "        print(\"Correct\")\n",
    "    x2 = (x[6] + x[10] + x[14] + x[3] + x[7] + x[11] + x[15]) % 2\n",
    "    print(\"b2: \" + str(x2))\n",
    "    if x2 != x[2]:\n",
    "        error = 1\n",
    "        print(\"Incorrect\")\n",
    "    else:\n",
    "        print(\"Correct\")\n",
    "    x4 = (x[5] + x[6] + x[7] + x[12] + x[13] + x[14] + x[15]) % 2\n",
    "    print(\"b4: \" + str(x4))\n",
    "    if x4 != x[4]:\n",
    "        error = 1\n",
    "        print(\"Incorrect\")\n",
    "    else:\n",
    "        print(\"Correct\")\n",
    "    x8 = (x[9] + x[10] + x[11] + x[12] + x[13] + x[14] + x[15]) % 2\n",
    "    print(\"b8: \" + str(x8))\n",
    "    if x8 != x[8]:\n",
    "        error = 1\n",
    "        print(\"Incorrect\")\n",
    "    else:\n",
    "        print(\"Correct\")\n",
    "    x0 = 0\n",
    "    for y in range(len(x)):\n",
    "        if y == 0:\n",
    "            continue\n",
    "        x0 += y\n",
    "    x0 %= 2\n",
    "    print(\"b0: \" + str(x0))\n",
    "    if x0 != x[0]:\n",
    "        error = 1\n",
    "        print(\"Incorrect\")\n",
    "    else:\n",
    "        print(\"Correct\")\n",
    "    if error == 1:\n",
    "        row = 0\n",
    "        column = 0\n",
    "        if x1 == x[1] and x2 == x[2]:\n",
    "            column = 0\n",
    "        if x1 != x[1] and x2 == x[2]:\n",
    "            column = 1\n",
    "        if x1 == x[1] and x2 != x[2]:\n",
    "            column = 2\n",
    "        if x1 != x[1] and x2 != x[2]:\n",
    "            column = 3\n",
    "        if x4 == x[4] and x8 == x[8]:\n",
    "            row = 0\n",
    "        if x4 != x[4] and x8 == x[8]:\n",
    "            row = 1\n",
    "        if x4 == x[4] and x8 != x[8]:\n",
    "            row = 2\n",
    "        if x4 != x[4] and x8 != x[8]:\n",
    "            row = 3\n",
    "        print(\"Error at position: \" + str(row * 4 + column))\n",
    "        if x[row * 4 + column] == 0:\n",
    "            x[row * 4 + column] = 1\n",
    "        else:\n",
    "            x[row * 4 + column] = 0\n",
    "        print(\"Corrected bitstring: \" + \"\".join(str(y) for y in x))\n",
    "    rstring = \"\"\n",
    "    rstring += str(x[3])\n",
    "    rstring += str(x[5])\n",
    "    rstring += str(x[6])\n",
    "    rstring += str(x[7])\n",
    "    rstring += str(x[9])\n",
    "    rstring += str(x[10])\n",
    "    rstring += str(x[11])\n",
    "    rstring += str(x[12])\n",
    "    rstring += str(x[13])\n",
    "    rstring += str(x[14])\n",
    "    rstring += str(x[15])\n",
    "    print(\"Decoded bitstring: \" + rstring)\n",
    "    return rstring"
   ]
  },
  {
   "cell_type": "code",
   "execution_count": 14,
   "metadata": {},
   "outputs": [
    {
     "name": "stdout",
     "output_type": "stream",
     "text": [
      "1101011010110100\n",
      "b1: 0\n",
      "Incorrect\n",
      "b2: 0\n",
      "Correct\n",
      "b4: 1\n",
      "Incorrect\n",
      "b8: 1\n",
      "Correct\n",
      "b0: 0\n",
      "Incorrect\n",
      "Error at position: 5\n",
      "Corrected bitstring: 1101001010110100\n",
      "Decoded bitstring: 10100110100\n",
      "0001001000101110\n",
      "b1: 0\n",
      "Correct\n",
      "b2: 0\n",
      "Correct\n",
      "b4: 0\n",
      "Correct\n",
      "b8: 0\n",
      "Correct\n",
      "b0: 0\n",
      "Correct\n",
      "Decoded bitstring: 10100101110\n",
      "0000010111111010\n",
      "b1: 0\n",
      "Correct\n",
      "b2: 0\n",
      "Correct\n",
      "b4: 0\n",
      "Correct\n",
      "b8: 1\n",
      "Correct\n",
      "b0: 0\n",
      "Correct\n",
      "Decoded bitstring: 01011111010\n",
      "0101101001010101\n",
      "b1: 1\n",
      "Correct\n",
      "b2: 0\n",
      "Correct\n",
      "b4: 1\n",
      "Correct\n",
      "b8: 0\n",
      "Correct\n",
      "b0: 0\n",
      "Correct\n",
      "Decoded bitstring: 10101010101\n",
      "1110010100000000\n",
      "b1: 0\n",
      "Incorrect\n",
      "b2: 1\n",
      "Correct\n",
      "b4: 0\n",
      "Correct\n",
      "b8: 0\n",
      "Correct\n",
      "b0: 0\n",
      "Incorrect\n",
      "Error at position: 1\n",
      "Corrected bitstring: 1010010100000000\n",
      "Decoded bitstring: 01010000000\n",
      "1010011010010100101110010111110101010101010101010000000\n"
     ]
    }
   ],
   "source": [
    "final = \"\"\n",
    "for x in newSplitted:\n",
    "    final += hamming(x)\n",
    "print(final)"
   ]
  },
  {
   "cell_type": "code",
   "execution_count": 16,
   "metadata": {},
   "outputs": [
    {
     "name": "stdout",
     "output_type": "stream",
     "text": [
      "Decoded sequence: \n",
      "1010011010010100101110010111110101010101010101010000000\n",
      "Sequence from assignment 3:\n",
      "1010011010010100101110010111110101010101010101010\n",
      "They match.\n"
     ]
    }
   ],
   "source": [
    "print(\"Decoded sequence: \")\n",
    "print(final)\n",
    "print(\"Sequence from assignment 3:\")\n",
    "f = open(\"code.txt\", \"r\")\n",
    "bitString = f.read()\n",
    "bitString\n",
    "print(bitString)\n",
    "match = 1\n",
    "for x in range(len(final)):\n",
    "    if len(bitString) == x:\n",
    "        break\n",
    "    if final[x] != bitString[x]:\n",
    "        match = 0\n",
    "        break\n",
    "if match == 0:\n",
    "    print(\"They dont match.\")\n",
    "else:\n",
    "    print(\"They match.\")"
   ]
  }
 ],
 "metadata": {
  "kernelspec": {
   "display_name": "Python 3",
   "language": "python",
   "name": "python3"
  },
  "language_info": {
   "codemirror_mode": {
    "name": "ipython",
    "version": 3
   },
   "file_extension": ".py",
   "mimetype": "text/x-python",
   "name": "python",
   "nbconvert_exporter": "python",
   "pygments_lexer": "ipython3",
   "version": "3.8.5"
  }
 },
 "nbformat": 4,
 "nbformat_minor": 4
}
